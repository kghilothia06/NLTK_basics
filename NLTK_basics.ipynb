{
 "cells": [
  {
   "cell_type": "markdown",
   "metadata": {},
   "source": [
    "# BASIC NLP PIPELINE\n",
    "1. Data collection\n",
    "2. Tokenization,stopword,stemming\n",
    "3. buliding a common vocab\n",
    "4. vectorizing the docs\n",
    "5. performing clustering / classification"
   ]
  },
  {
   "cell_type": "code",
   "execution_count": 1,
   "metadata": {},
   "outputs": [],
   "source": [
    "from nltk.corpus import brown"
   ]
  },
  {
   "cell_type": "markdown",
   "metadata": {},
   "source": [
    "# Data collection"
   ]
  },
  {
   "cell_type": "code",
   "execution_count": 2,
   "metadata": {},
   "outputs": [
    {
     "name": "stdout",
     "output_type": "stream",
     "text": [
      "['adventure', 'belles_lettres', 'editorial', 'fiction', 'government', 'hobbies', 'humor', 'learned', 'lore', 'mystery', 'news', 'religion', 'reviews', 'romance', 'science_fiction']\n"
     ]
    }
   ],
   "source": [
    "print(brown.categories())"
   ]
  },
  {
   "cell_type": "code",
   "execution_count": 3,
   "metadata": {},
   "outputs": [],
   "source": [
    "data = brown.sents(categories='editorial')[:100]"
   ]
  },
  {
   "cell_type": "code",
   "execution_count": 4,
   "metadata": {},
   "outputs": [
    {
     "name": "stdout",
     "output_type": "stream",
     "text": [
      "[['Assembly', 'session', 'brought', 'much', 'good'], ['The', 'General', 'Assembly', ',', 'which', 'adjourns', 'today', ',', 'has', 'performed', 'in', 'an', 'atmosphere', 'of', 'crisis', 'and', 'struggle', 'from', 'the', 'day', 'it', 'convened', '.'], ...]\n"
     ]
    }
   ],
   "source": [
    "print(data)"
   ]
  },
  {
   "cell_type": "code",
   "execution_count": 5,
   "metadata": {},
   "outputs": [
    {
     "name": "stdout",
     "output_type": "stream",
     "text": [
      "100\n"
     ]
    }
   ],
   "source": [
    "print(len(data))"
   ]
  },
  {
   "cell_type": "markdown",
   "metadata": {},
   "source": [
    "# Tokenization\n"
   ]
  },
  {
   "cell_type": "code",
   "execution_count": 6,
   "metadata": {},
   "outputs": [
    {
     "name": "stdout",
     "output_type": "stream",
     "text": [
      " I am kush , studying in NSIT, an IT engineer who is looking for opportunities to learn\n"
     ]
    }
   ],
   "source": [
    "text = \" I am kush , studying in NSIT, an IT engineer who is looking for opportunities to learn\"\n",
    "print(text)"
   ]
  },
  {
   "cell_type": "code",
   "execution_count": 9,
   "metadata": {},
   "outputs": [],
   "source": [
    "from nltk.tokenize import sent_tokenize, word_tokenize"
   ]
  },
  {
   "cell_type": "code",
   "execution_count": 10,
   "metadata": {},
   "outputs": [
    {
     "name": "stdout",
     "output_type": "stream",
     "text": [
      "[' I am kush , studying in NSIT, an IT engineer who is looking for opportunities to learn']\n"
     ]
    }
   ],
   "source": [
    "sents = sent_tokenize(text)\n",
    "print(sents)"
   ]
  },
  {
   "cell_type": "code",
   "execution_count": 11,
   "metadata": {},
   "outputs": [
    {
     "name": "stdout",
     "output_type": "stream",
     "text": [
      "['i', 'am', 'kush', ',', 'studying', 'in', 'nsit', ',', 'an', 'it', 'engineer', 'who', 'is', 'looking', 'for', 'opportunities', 'to', 'learn']\n"
     ]
    }
   ],
   "source": [
    "word_list = word_tokenize(sents[0].lower())\n",
    "print(word_list)"
   ]
  },
  {
   "cell_type": "markdown",
   "metadata": {},
   "source": [
    "# stop word removal"
   ]
  },
  {
   "cell_type": "code",
   "execution_count": 12,
   "metadata": {},
   "outputs": [],
   "source": [
    "from nltk.corpus import stopwords\n",
    "\n",
    "sw = set(stopwords.words('english'))"
   ]
  },
  {
   "cell_type": "code",
   "execution_count": 13,
   "metadata": {},
   "outputs": [
    {
     "name": "stdout",
     "output_type": "stream",
     "text": [
      "{'me', 'for', 'he', 'be', 'to', 'can', 'haven', 'are', \"mightn't\", \"it's\", 'both', 'does', 'in', 'all', 'each', 'their', 'at', 'it', 'my', \"haven't\", 'again', \"needn't\", 'you', 'y', \"shan't\", 'll', 'and', 'against', 'whom', 'will', 'having', 'mightn', 'she', 'has', 'what', 'am', 'if', 'ourselves', 'not', 'isn', 've', 'these', 'm', 'they', 'wouldn', \"don't\", 'under', 'myself', 'ours', 'have', 'aren', 'so', 'from', 'off', 'but', 'or', 'themselves', 'here', \"isn't\", 'mustn', 'an', \"hadn't\", 'through', 'where', 'than', 'shouldn', \"you'll\", 'own', 'them', \"doesn't\", 'yours', 'those', 'between', 'weren', 'had', 'ain', 'which', 'down', 'until', 'during', 'yourself', 'is', 'was', 'by', 'nor', 'too', 'her', 'on', 'out', 'were', 'been', 'while', 'few', 'such', 'when', 's', \"should've\", 'there', 're', 'that', \"she's\", \"mustn't\", 'further', 'no', \"didn't\", 'into', 'being', \"you're\", \"weren't\", 'didn', \"you've\", 'the', \"wasn't\", 'wasn', 't', 'once', 'of', 'hasn', 'theirs', 'couldn', 'himself', 'above', 'how', 'then', 'up', 'doesn', 'hadn', \"wouldn't\", \"that'll\", \"you'd\", 'yourselves', 'its', 'about', \"hasn't\", 'did', 'this', 'don', 'with', 'a', 'we', 'i', 'his', 'do', 'only', 'now', 'your', 'other', 'very', 'over', 'our', 'shan', 'o', 'before', 'most', \"shouldn't\", \"won't\", 'more', 'should', 'some', 'itself', 'who', 'after', 'below', 'just', 'doing', 'ma', 'why', 'needn', 'won', 'd', 'him', \"aren't\", 'hers', 'herself', 'as', 'same', 'any', 'because', \"couldn't\"}\n"
     ]
    }
   ],
   "source": [
    "print(sw)"
   ]
  },
  {
   "cell_type": "markdown",
   "metadata": {},
   "source": [
    "# filter words from your sentence"
   ]
  },
  {
   "cell_type": "code",
   "execution_count": 14,
   "metadata": {},
   "outputs": [
    {
     "name": "stdout",
     "output_type": "stream",
     "text": [
      "['kush', ',', 'studying', 'nsit', ',', 'engineer', 'looking', 'opportunities', 'learn']\n"
     ]
    }
   ],
   "source": [
    "useful_words = [w for w in word_list if w not in sw]\n",
    "print(useful_words)"
   ]
  },
  {
   "cell_type": "markdown",
   "metadata": {},
   "source": [
    "# Regex Tokenizer"
   ]
  },
  {
   "cell_type": "code",
   "execution_count": 15,
   "metadata": {},
   "outputs": [],
   "source": [
    "from nltk.tokenize import RegexpTokenizer"
   ]
  },
  {
   "cell_type": "code",
   "execution_count": 16,
   "metadata": {},
   "outputs": [],
   "source": [
    "tokenizer = RegexpTokenizer(\"[a-zA-Z0-9@]+\")"
   ]
  },
  {
   "cell_type": "code",
   "execution_count": 18,
   "metadata": {},
   "outputs": [
    {
     "name": "stdout",
     "output_type": "stream",
     "text": [
      "['I', 'am', 'kush', 'studying', 'in', 'NSIT', 'an', 'IT', 'engineer', 'who', 'is', 'looking', 'for', 'opportunities', 'to', 'learn']\n"
     ]
    }
   ],
   "source": [
    "text1 = \"SEnd all 50 docs from 1,2,3, to my office!.com, @\"\n",
    "print(tokenizer.tokenize(text))"
   ]
  },
  {
   "cell_type": "markdown",
   "metadata": {},
   "source": [
    "# Stemming"
   ]
  },
  {
   "cell_type": "code",
   "execution_count": 19,
   "metadata": {},
   "outputs": [
    {
     "name": "stdout",
     "output_type": "stream",
     "text": [
      "['foxes', 'love', 'jumping', 'dog', 'had', 'jumped', 'cat', 'jumps', 'high']\n"
     ]
    }
   ],
   "source": [
    "text2= \"foxes love jumping. dog had jumped , cat jumps high! \"\n",
    "\n",
    "words_list = tokenizer.tokenize(text2.lower())\n",
    "print(words_list)"
   ]
  },
  {
   "cell_type": "code",
   "execution_count": 20,
   "metadata": {},
   "outputs": [
    {
     "ename": "NameError",
     "evalue": "name 'filter_words' is not defined",
     "output_type": "error",
     "traceback": [
      "\u001b[1;31m---------------------------------------------------------------------------\u001b[0m",
      "\u001b[1;31mNameError\u001b[0m                                 Traceback (most recent call last)",
      "\u001b[1;32m<ipython-input-20-f57922e02c8b>\u001b[0m in \u001b[0;36m<module>\u001b[1;34m\u001b[0m\n\u001b[1;32m----> 1\u001b[1;33m \u001b[0mword_list\u001b[0m \u001b[1;33m=\u001b[0m \u001b[0mfilter_words\u001b[0m\u001b[1;33m(\u001b[0m\u001b[0mwords_list\u001b[0m\u001b[1;33m)\u001b[0m\u001b[1;33m\u001b[0m\u001b[1;33m\u001b[0m\u001b[0m\n\u001b[0m",
      "\u001b[1;31mNameError\u001b[0m: name 'filter_words' is not defined"
     ]
    }
   ],
   "source": [
    "word_list = filter_words(words_list) "
   ]
  },
  {
   "cell_type": "code",
   "execution_count": 52,
   "metadata": {},
   "outputs": [],
   "source": [
    "from nltk.stem.snowball import PorterStemmer , SnowballStemmer\n",
    "from nltk.stem.lancaster import LancasterStemmer\n",
    "ps= PorterStemmer()"
   ]
  },
  {
   "cell_type": "code",
   "execution_count": 45,
   "metadata": {},
   "outputs": [
    {
     "data": {
      "text/plain": [
       "'jump'"
      ]
     },
     "execution_count": 45,
     "metadata": {},
     "output_type": "execute_result"
    }
   ],
   "source": [
    "ps.stem(\"jumps\")"
   ]
  },
  {
   "cell_type": "code",
   "execution_count": 51,
   "metadata": {},
   "outputs": [
    {
     "data": {
      "text/plain": [
       "'jump'"
      ]
     },
     "execution_count": 51,
     "metadata": {},
     "output_type": "execute_result"
    }
   ],
   "source": [
    "ls = LancasterStemmer()\n",
    "ls.stem(\"jumping\")"
   ]
  },
  {
   "cell_type": "code",
   "execution_count": 53,
   "metadata": {},
   "outputs": [
    {
     "name": "stdout",
     "output_type": "stream",
     "text": [
      "teenag\n"
     ]
    }
   ],
   "source": [
    "ss= SnowballStemmer('english')\n",
    "print(ss.stem(\"teenager\"))"
   ]
  },
  {
   "cell_type": "markdown",
   "metadata": {},
   "source": [
    "# Lemmatization"
   ]
  },
  {
   "cell_type": "code",
   "execution_count": 23,
   "metadata": {},
   "outputs": [
    {
     "data": {
      "text/plain": [
       "'jumping'"
      ]
     },
     "execution_count": 23,
     "metadata": {},
     "output_type": "execute_result"
    }
   ],
   "source": [
    "from nltk.stem import WordNetLemmatizer\n",
    "l = WordNetLemmatizer()\n",
    "l.lemmatize(\"jumping\")"
   ]
  },
  {
   "cell_type": "markdown",
   "metadata": {},
   "source": [
    "# Building common vacab and vectorizing docs(based on bag of words model)"
   ]
  },
  {
   "cell_type": "code",
   "execution_count": 24,
   "metadata": {},
   "outputs": [],
   "source": [
    "from sklearn.feature_extraction.text import CountVectorizer"
   ]
  },
  {
   "cell_type": "code",
   "execution_count": 25,
   "metadata": {},
   "outputs": [],
   "source": [
    "cv = CountVectorizer(ngram_range=(1,2))"
   ]
  },
  {
   "cell_type": "code",
   "execution_count": 26,
   "metadata": {},
   "outputs": [],
   "source": [
    "corpus={\n",
    "    'India cricket team will world cup , says Indian captain',\n",
    "    'we will win Lok Sabha elections , says confident Indian PM',\n",
    "    'The movie \"RAAZI\" is an Indian spy thriller movie',\n",
    "    'The, nobel prize winner won hearts of Indian citizens'\n",
    "}"
   ]
  },
  {
   "cell_type": "code",
   "execution_count": 82,
   "metadata": {},
   "outputs": [],
   "source": [
    "vectorized_corpus = cv.fit_transform(corpus).todense()"
   ]
  },
  {
   "cell_type": "code",
   "execution_count": 85,
   "metadata": {},
   "outputs": [
    {
     "name": "stdout",
     "output_type": "stream",
     "text": [
      "1\n"
     ]
    }
   ],
   "source": [
    "vectorized_corpus\n",
    "print(len(vectorized_corpus[0]))"
   ]
  },
  {
   "cell_type": "code",
   "execution_count": 84,
   "metadata": {},
   "outputs": [
    {
     "name": "stdout",
     "output_type": "stream",
     "text": [
      "{'we': 50, 'will': 52, 'win': 55, 'lok': 23, 'sabha': 36, 'elections': 10, 'says': 38, 'confident': 4, 'indian': 16, 'pm': 31, 'we will': 51, 'will win': 53, 'win lok': 56, 'lok sabha': 24, 'sabha elections': 37, 'elections says': 11, 'says confident': 39, 'confident indian': 5, 'indian pm': 19, 'the': 45, 'nobel': 27, 'prize': 32, 'winner': 57, 'won': 59, 'hearts': 12, 'of': 29, 'citizens': 3, 'the nobel': 47, 'nobel prize': 28, 'prize winner': 33, 'winner won': 58, 'won hearts': 60, 'hearts of': 13, 'of indian': 30, 'indian citizens': 18, 'movie': 25, 'raazi': 34, 'is': 21, 'an': 0, 'spy': 41, 'thriller': 48, 'the movie': 46, 'movie raazi': 26, 'raazi is': 35, 'is an': 22, 'an indian': 1, 'indian spy': 20, 'spy thriller': 42, 'thriller movie': 49, 'india': 14, 'cricket': 6, 'team': 43, 'world': 61, 'cup': 8, 'captain': 2, 'india cricket': 15, 'cricket team': 7, 'team will': 44, 'will world': 54, 'world cup': 62, 'cup says': 9, 'says indian': 40, 'indian captain': 17}\n"
     ]
    }
   ],
   "source": [
    "#dictionary of given corpus\n",
    "print(cv.vocabulary_)"
   ]
  },
  {
   "cell_type": "code",
   "execution_count": 86,
   "metadata": {},
   "outputs": [
    {
     "name": "stdout",
     "output_type": "stream",
     "text": [
      "[1. 1. 1. 0. 0. 0. 0. 0. 0. 0. 0. 0. 0. 0. 0. 0. 0. 0. 0. 0. 1. 1. 1. 1.\n",
      " 1. 1. 1. 1. 1. 1. 1. 1. 1. 1. 1. 1. 1. 1. 1. 1. 1. 1. 1. 1.]\n"
     ]
    }
   ],
   "source": [
    "#given  a vector what is the sentence\n",
    "\n",
    "import numpy as np\n",
    "vector = np.ones((44,))\n",
    "vector[3:20]=0\n",
    "print(vector)"
   ]
  },
  {
   "cell_type": "code",
   "execution_count": 87,
   "metadata": {},
   "outputs": [
    {
     "name": "stdout",
     "output_type": "stream",
     "text": [
      "[array(['an', 'an indian', 'captain', 'indian spy', 'is', 'is an', 'lok',\n",
      "       'lok sabha', 'movie', 'movie raazi', 'nobel', 'nobel prize', 'of',\n",
      "       'of indian', 'pm', 'prize', 'prize winner', 'raazi', 'raazi is',\n",
      "       'sabha', 'sabha elections', 'says', 'says confident',\n",
      "       'says indian', 'spy', 'spy thriller', 'team'], dtype='<U16')]\n"
     ]
    }
   ],
   "source": [
    "print(cv.inverse_transform(vector))"
   ]
  },
  {
   "cell_type": "code",
   "execution_count": 88,
   "metadata": {},
   "outputs": [
    {
     "data": {
      "text/plain": [
       "43"
      ]
     },
     "execution_count": 88,
     "metadata": {},
     "output_type": "execute_result"
    }
   ],
   "source": [
    "#to know index of a word in vocabulary\n",
    "cv.vocabulary_[\"team\"]"
   ]
  },
  {
   "cell_type": "markdown",
   "metadata": {},
   "source": [
    "# bag of words:\n",
    "1. unigram\n",
    "2. bigram : capturing pairs of words as features \n",
    "3. trigram : capturing triplets of words as features\n",
    "4. Ngram"
   ]
  },
  {
   "cell_type": "code",
   "execution_count": 95,
   "metadata": {},
   "outputs": [],
   "source": [
    "text3 = {'#Coding blocks great source learn Machine_learn'}\n",
    "cv1 = CountVectorizer(ngram_range=(3,3))\n",
    "vc1 = cv1.fit_transform(text3).toarray()"
   ]
  },
  {
   "cell_type": "code",
   "execution_count": 97,
   "metadata": {},
   "outputs": [
    {
     "name": "stdout",
     "output_type": "stream",
     "text": [
      "[[1 1 1 1]]\n"
     ]
    }
   ],
   "source": [
    "print(vc1)"
   ]
  },
  {
   "cell_type": "code",
   "execution_count": null,
   "metadata": {},
   "outputs": [],
   "source": []
  }
 ],
 "metadata": {
  "kernelspec": {
   "display_name": "Python 3",
   "language": "python",
   "name": "python3"
  },
  "language_info": {
   "codemirror_mode": {
    "name": "ipython",
    "version": 3
   },
   "file_extension": ".py",
   "mimetype": "text/x-python",
   "name": "python",
   "nbconvert_exporter": "python",
   "pygments_lexer": "ipython3",
   "version": "3.7.3"
  }
 },
 "nbformat": 4,
 "nbformat_minor": 2
}
